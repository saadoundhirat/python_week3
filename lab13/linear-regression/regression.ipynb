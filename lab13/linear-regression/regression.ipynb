{
 "cells": [
  {
   "cell_type": "markdown",
   "source": [
    "<!-- i will solve it on the week-end  -->"
   ],
   "metadata": {}
  }
 ],
 "metadata": {
  "orig_nbformat": 4,
  "language_info": {
   "name": "python"
  }
 },
 "nbformat": 4,
 "nbformat_minor": 2
}