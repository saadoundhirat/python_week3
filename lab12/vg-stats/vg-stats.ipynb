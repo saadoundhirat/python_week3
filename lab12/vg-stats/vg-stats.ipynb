{
 "cells": [
  {
   "cell_type": "markdown",
   "source": [
    "# Lab: Data Analysis with Pandas\n",
    "\n",
    "- Lab12 vg-stats file\n",
    "- Saadoun Dhirat\n",
    "- [github.com/saadoun](https://github.com/saadoundhirat/python_week3)\n"
   ],
   "metadata": {}
  },
  {
   "cell_type": "code",
   "execution_count": null,
   "source": [
    "import pandas as pd"
   ],
   "outputs": [],
   "metadata": {}
  },
  {
   "cell_type": "code",
   "execution_count": null,
   "source": [
    "# dir(pd)\n",
    "# # help(pd)\n",
    "# help(df)"
   ],
   "outputs": [],
   "metadata": {}
  },
  {
   "cell_type": "markdown",
   "source": [
    "# Which company is the most common video game publisher?"
   ],
   "metadata": {}
  },
  {
   "cell_type": "code",
   "execution_count": null,
   "source": [
    "df = pd.read_csv(\"./vgsales.csv\" , error_bad_lines=False) \n",
    "most_common_publisher = df[\"Publisher\"].value_counts().idxmax()\n",
    "most_common_publisher"
   ],
   "outputs": [],
   "metadata": {}
  },
  {
   "cell_type": "markdown",
   "source": [
    "# What’s the most common platform?"
   ],
   "metadata": {}
  },
  {
   "cell_type": "code",
   "execution_count": null,
   "source": [
    "most_common_platform = df[\"Platform\"].value_counts().idxmax()\n",
    "most_common_platform"
   ],
   "outputs": [],
   "metadata": {}
  },
  {
   "cell_type": "markdown",
   "source": [
    "# What about the most common genre?\n"
   ],
   "metadata": {}
  },
  {
   "cell_type": "code",
   "execution_count": null,
   "source": [
    "most_common_genre = df[\"Genre\"].value_counts().idxmax()\n",
    "most_common_genre"
   ],
   "outputs": [],
   "metadata": {}
  },
  {
   "cell_type": "markdown",
   "source": [
    "# What are the top 20 highest grossing games?"
   ],
   "metadata": {}
  },
  {
   "cell_type": "code",
   "execution_count": null,
   "source": [
    "df_heighest = df.copy()\n",
    "highest_grossing_games = df_heighest.sort_values(\"Rank\").head(20)[[\"Name\"]]\n",
    "highest_grossing_games"
   ],
   "outputs": [],
   "metadata": {}
  },
  {
   "cell_type": "markdown",
   "source": [
    "# For North American video game sales, what’s the median?"
   ],
   "metadata": {}
  },
  {
   "cell_type": "code",
   "execution_count": null,
   "source": [
    "North_American_median = df['NA_Sales'].median()\n",
    "North_American_median"
   ],
   "outputs": [],
   "metadata": {}
  },
  {
   "cell_type": "code",
   "execution_count": null,
   "source": [
    "same_median = df[df['NA_Sales'] == North_American_median]\n",
    "middle_point = len(same_median)//2\n",
    "outcome = same_median[middle_point-5:middle_point+5]\n",
    "outcome"
   ],
   "outputs": [],
   "metadata": {}
  },
  {
   "cell_type": "markdown",
   "source": [
    "# For the top-selling game of all time, how many standard deviations above/below the mean are its sales for North America?"
   ],
   "metadata": {}
  },
  {
   "cell_type": "code",
   "execution_count": null,
   "source": [
    "top_selling = df.copy()\n",
    "top_game = top_selling.head(1)\n",
    "NA_Sales = top_game[\"NA_Sales\"]\n",
    "NA_Sales_mean = top_selling[\"NA_Sales\"].mean()\n",
    "standard_deviations = top_selling['NA_Sales'].std()\n",
    "result = (NA_Sales-NA_Sales_mean)/standard_deviations\n",
    "result"
   ],
   "outputs": [],
   "metadata": {}
  },
  {
   "cell_type": "markdown",
   "source": [
    "# The Nintendo Wii seems to have outdone itself with games. How does its average number of sales compare with all of the other platforms?"
   ],
   "metadata": {}
  },
  {
   "cell_type": "code",
   "execution_count": null,
   "source": [
    "print(df[df['Platform'] == 'Wii']['Global_Sales'].mean())\n",
    "print(df['Global_Sales'].mean())"
   ],
   "outputs": [],
   "metadata": {}
  },
  {
   "cell_type": "markdown",
   "source": [
    "# Come up with 3 more questions that can be answered with this data set.\n"
   ],
   "metadata": {}
  },
  {
   "cell_type": "code",
   "execution_count": null,
   "source": [
    "\n",
    "df_copy = df.copy()\n",
    "pub_one = df_copy[(df_copy[\"Platform\"]=='Wii')]\n",
    "pub_two = df_copy[(df_copy[\"Platform\"]!='Wii')]\n",
    "outcome = (pub_two[\"Global_Sales\"].mean(),pub_one[\"Global_Sales\"].mean())\n",
    "outcome"
   ],
   "outputs": [],
   "metadata": {}
  },
  {
   "cell_type": "markdown",
   "source": [
    "# User Acceptance Tests"
   ],
   "metadata": {}
  },
  {
   "cell_type": "code",
   "execution_count": null,
   "source": [
    "def test():\n",
    "\n",
    "    def assert_equal(actual,expected):\n",
    "        assert actual == expected, f\"Expected {expected} but got {actual}\"\n",
    "\n",
    "    assert_equal(most_common_publisher, 'Electronic Arts')\n",
    "    assert_equal(most_common_platform, 'DS')\n",
    "    assert_equal(most_common_genre, 'Action')\n",
    "    assert_equal(highest_grossing_games.iloc[19].Name, 'Brain Age: Train Your Brain in Minutes a Day')\n",
    "    assert_equal(highest_grossing_games.iloc[0].Name, 'Wii Sports')\n",
    "    assert_equal(outcome, (0.5233896418516336, 0.6994037735849057))\n",
    "\n",
    "    print(\"Success!!!\")\n",
    "\n",
    "test()"
   ],
   "outputs": [],
   "metadata": {}
  },
  {
   "cell_type": "markdown",
   "source": [],
   "metadata": {}
  }
 ],
 "metadata": {
  "orig_nbformat": 4,
  "language_info": {
   "name": "python",
   "version": "3.9.6",
   "mimetype": "text/x-python",
   "codemirror_mode": {
    "name": "ipython",
    "version": 3
   },
   "pygments_lexer": "ipython3",
   "nbconvert_exporter": "python",
   "file_extension": ".py"
  },
  "kernelspec": {
   "name": "python396jvsc74a57bd0411b5c0af9dce648e63cd5153b7c5892ab55e17e1580958d6de19c7f6904c5bb",
   "display_name": "Python 3.9.6 64-bit ('.venv': poetry)",
   "language": "python"
  },
  "interpreter": {
   "hash": "7d6993cb2f9ce9a59d5d7380609d9cb5192a9dedd2735a011418ad9e827eb538"
  }
 },
 "nbformat": 4,
 "nbformat_minor": 2
}