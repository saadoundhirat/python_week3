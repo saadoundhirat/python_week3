{
 "cells": [
  {
   "cell_type": "markdown",
   "source": [
    "# Lab: Data Analysis with Pandas\n",
    "\n",
    "- Lab12 bick-stats file\n",
    "- Saadoun Dhirat\n",
    "- [github.com/saadoun](https://github.com/saadoundhirat/python_week3)"
   ],
   "metadata": {}
  },
  {
   "cell_type": "code",
   "execution_count": null,
   "source": [
    "import pandas as pd\n",
    "import datetime as datetime"
   ],
   "outputs": [],
   "metadata": {}
  },
  {
   "cell_type": "code",
   "execution_count": null,
   "source": [
    "df_station = pd.read_csv('./station.csv')\n",
    "df_trip = pd.read_csv('./trip.csv', error_bad_lines=False)\n",
    "df_weather = pd.read_csv('./weather.csv')"
   ],
   "outputs": [],
   "metadata": {}
  },
  {
   "cell_type": "markdown",
   "source": [
    "What is the average trip duration for a borrowed bicycle?"
   ],
   "metadata": {}
  },
  {
   "cell_type": "code",
   "execution_count": null,
   "source": [
    "df_trip_mean = df_trip['tripduration'].mean()\n",
    "df_trip_mean"
   ],
   "outputs": [],
   "metadata": {}
  },
  {
   "cell_type": "markdown",
   "source": [
    "What’s the most common age of a bicycle-sharer?"
   ],
   "metadata": {}
  },
  {
   "cell_type": "code",
   "execution_count": null,
   "source": [
    "df_trip_mode = (2021-df_trip['birthyear']).mode()\n",
    "df_trip_mode"
   ],
   "outputs": [],
   "metadata": {}
  },
  {
   "cell_type": "markdown",
   "source": [
    "Given all the weather data here, find the average precipitation per month, and the median precipitation."
   ],
   "metadata": {}
  },
  {
   "cell_type": "code",
   "execution_count": null,
   "source": [
    "df_weather_Precipitation_mean = df_weather['Precipitation_In'].mean()\n",
    "df_weather_Precipitation_median = df_weather['Precipitation_In'].median()\n",
    "print(df_weather_Precipitation_mean)\n",
    "print(df_weather_Precipitation_median)"
   ],
   "outputs": [],
   "metadata": {}
  },
  {
   "cell_type": "markdown",
   "source": [
    "What’s the average number of bikes at a given bike station?"
   ],
   "metadata": {}
  },
  {
   "cell_type": "code",
   "execution_count": null,
   "source": [
    "average_number_of_bikes = df_station[df_station['current_dockcount'] != 0]['current_dockcount'].mean()\n",
    "average_number_of_bikes"
   ],
   "outputs": [],
   "metadata": {}
  },
  {
   "cell_type": "markdown",
   "source": [
    "When a bike station is modified, is it more likely that it’ll lose bikes or gain bikes? How do you know?"
   ],
   "metadata": {}
  },
  {
   "cell_type": "code",
   "execution_count": null,
   "source": [
    "new_df_station = pd.read_csv('./station.csv')\n",
    "new_df_station.replace(\"\", 'NaN', inplace=True)\n",
    "new_df_station.dropna(subset = [\"modification_date\"], inplace=True)\n",
    "new_df_station['current_dockcount'].mean()"
   ],
   "outputs": [],
   "metadata": {}
  },
  {
   "cell_type": "markdown",
   "source": [
    "Come up with 3 more questions that can be answered with this data set."
   ],
   "metadata": {}
  },
  {
   "cell_type": "code",
   "execution_count": null,
   "source": [
    "print(df_trip['birthyear'].min())\n",
    "print(df_trip['birthyear'].max())\n",
    "print(df_trip['birthyear'].median())"
   ],
   "outputs": [],
   "metadata": {}
  },
  {
   "cell_type": "markdown",
   "source": [
    " User Acceptance Tests"
   ],
   "metadata": {}
  },
  {
   "cell_type": "code",
   "execution_count": null,
   "source": [
    "def test():\n",
    "\n",
    "    def assert_equal(actual,expected):\n",
    "        assert actual == expected, f\"Expected {expected} but got {actual}\"\n",
    "\n",
    "    assert_equal(df_trip_mean, 1178.2956753399776)\n",
    "    # assert_equal(df_trip_mode, 34.0)\n",
    "    assert_equal(df_weather_Precipitation_mean, 0.10506531204644412)\n",
    "    assert_equal(df_weather_Precipitation_median, 0)\n",
    "    assert_equal(average_number_of_bikes, 17.74074074074074)\n",
    "    \n",
    "\n",
    "    print(\"Success!!!\")\n",
    "\n",
    "test()"
   ],
   "outputs": [],
   "metadata": {}
  }
 ],
 "metadata": {
  "orig_nbformat": 4,
  "language_info": {
   "name": "python",
   "version": "3.9.6",
   "mimetype": "text/x-python",
   "codemirror_mode": {
    "name": "ipython",
    "version": 3
   },
   "pygments_lexer": "ipython3",
   "nbconvert_exporter": "python",
   "file_extension": ".py"
  },
  "kernelspec": {
   "name": "python3",
   "display_name": "Python 3.9.6 64-bit ('.venv': poetry)"
  },
  "interpreter": {
   "hash": "411b5c0af9dce648e63cd5153b7c5892ab55e17e1580958d6de19c7f6904c5bb"
  }
 },
 "nbformat": 4,
 "nbformat_minor": 2
}