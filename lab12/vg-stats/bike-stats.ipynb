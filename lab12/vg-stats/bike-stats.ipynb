{
 "cells": [
  {
   "cell_type": "markdown",
   "source": [
    "# Lab: Data Analysis with Pandas\n",
    "\n",
    "- Lab12 bick-stats file\n",
    "- Saadoun Dhirat\n",
    "- [github.com/saadoun](https://github.com/saadoundhirat/python_week3)"
   ],
   "metadata": {}
  },
  {
   "cell_type": "code",
   "execution_count": null,
   "source": [
    "import pandas as pd\n",
    "import datetime as datetime"
   ],
   "outputs": [],
   "metadata": {}
  },
  {
   "cell_type": "code",
   "execution_count": null,
   "source": [
    "df_trip=pd.read_csv('./trip.csv',error_bad_lines=False)"
   ],
   "outputs": [],
   "metadata": {}
  },
  {
   "cell_type": "markdown",
   "source": [
    "What is the average trip duration for a borrowed bicycle?"
   ],
   "metadata": {}
  },
  {
   "cell_type": "code",
   "execution_count": null,
   "source": [
    "\n",
    "average_trip = df_trip[\"tripduration\"].mean()\n",
    "average_trip"
   ],
   "outputs": [],
   "metadata": {}
  }
 ],
 "metadata": {
  "orig_nbformat": 4,
  "language_info": {
   "name": "python",
   "version": "3.9.6"
  },
  "kernelspec": {
   "name": "python396jvsc74a57bd0dc3d656dab45e3bf864f321d000276e10fd39aa056755657c1ae00bf48cb05e2",
   "display_name": "Python 3.9.6 64-bit ('.venv': venv)"
  }
 },
 "nbformat": 4,
 "nbformat_minor": 2
}